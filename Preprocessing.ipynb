{
 "cells": [
  {
   "cell_type": "code",
   "execution_count": 1,
   "metadata": {},
   "outputs": [],
   "source": [
    "import torch\n",
    "import torch_geometric\n",
    "import matplotlib.pyplot as plt"
   ]
  },
  {
   "cell_type": "code",
   "execution_count": 2,
   "metadata": {},
   "outputs": [],
   "source": [
    "import numpy as np"
   ]
  },
  {
   "cell_type": "code",
   "execution_count": 3,
   "metadata": {},
   "outputs": [],
   "source": [
    "import networkx as nx\n",
    "from torch_geometric.utils.convert import to_networkx"
   ]
  },
  {
   "cell_type": "code",
   "execution_count": 4,
   "metadata": {},
   "outputs": [],
   "source": [
    "from torch_geometric.datasets import TUDataset"
   ]
  },
  {
   "cell_type": "code",
   "execution_count": 14,
   "metadata": {},
   "outputs": [],
   "source": [
    "from torch_geometric.data import Data"
   ]
  },
  {
   "cell_type": "code",
   "execution_count": 5,
   "metadata": {},
   "outputs": [],
   "source": [
    "def get_adj_list(adj):\n",
    "    adj = adj[0]\n",
    "    n = adj.shape[0]\n",
    "    adj_list = dict((k, []) for k in range(n))\n",
    "    pos_x, pos_y = np.where(adj != 0)\n",
    "    for i in range(len(pos_x)):\n",
    "        adj_list[pos_x[i]].append(pos_y[i])\n",
    "    return adj_list"
   ]
  },
  {
   "cell_type": "code",
   "execution_count": 6,
   "metadata": {},
   "outputs": [],
   "source": [
    "def get_features(i, adj_list, degree):\n",
    "    DN = []\n",
    "    for k in adj_list[i]:\n",
    "        DN.append(degree[k])\n",
    "    DN = np.array(DN)\n",
    "    return degree[i].item(), np.min(DN), np.max(DN), np.mean(DN), np.std(DN)"
   ]
  },
  {
   "cell_type": "code",
   "execution_count": 7,
   "metadata": {},
   "outputs": [],
   "source": [
    "def get_nodes_feature(adj):\n",
    "    n = adj[0].shape[0]\n",
    "    adj_list = get_adj_list(adj)\n",
    "    adj = adj[0]\n",
    "    node_deg = dict()\n",
    "    degree = torch.sum(adj, axis = 1)\n",
    "    node_feature = []\n",
    "    for i in range(n):\n",
    "        node_feature.append([*get_features(i, adj_list, degree)])    \n",
    "    return torch.tensor(node_feature)"
   ]
  },
  {
   "cell_type": "code",
   "execution_count": 8,
   "metadata": {},
   "outputs": [],
   "source": [
    "class GraphDataset(torch.utils.data.Dataset):\n",
    "    \n",
    "    def __init__(self, dataset):\n",
    "        self.DS = TUDataset(root = '/tmp/folder', name = dataset)\n",
    "        self.features = self.DS[0].x.shape[1]\n",
    "        \n",
    "    def __len__(self):\n",
    "        return len(self.data)\n",
    "    \n",
    "    def __getitem__(self, idx):\n",
    "        graph = self.DS[idx]\n",
    "        edge_index = graph.edge_index\n",
    "        adjacency_matrix = torch_geometric.utils.to_dense_adj(edge_index)\n",
    "        \n",
    "        item = {}\n",
    "        \n",
    "        item['graph'] = graph\n",
    "        item['adjacency_matrix'] = adjacency_matrix\n",
    "        item['node_features'] = get_nodes_feature(adjacency_matrix)\n",
    "        item['edge_weights'] = adjacency_matrix\n",
    "        \n",
    "        return item"
   ]
  },
  {
   "cell_type": "code",
   "execution_count": 9,
   "metadata": {},
   "outputs": [],
   "source": [
    "DS = GraphDataset('PROTEINS')"
   ]
  },
  {
   "cell_type": "code",
   "execution_count": 10,
   "metadata": {},
   "outputs": [],
   "source": [
    "item = DS[2]"
   ]
  },
  {
   "cell_type": "code",
   "execution_count": 18,
   "metadata": {},
   "outputs": [],
   "source": [
    "# Da riscrivere \n",
    "def reduce_graph():\n",
    "    edge_index = torch.tensor([[0, 1],\n",
    "                           [1, 0],\n",
    "                           [1, 2],\n",
    "                           [2, 1]], dtype=torch.long)\n",
    "    edge_index = torch_geometric.utils.to_dense_adj(edge_index)\n",
    "    mapping = dict()\n",
    "    mapping[0] = [0,1,2,9]\n",
    "    mapping[1] = [3,4,5]\n",
    "    mapping[2] = [6,7,8]\n",
    "    return edge_index, mapping"
   ]
  },
  {
   "cell_type": "code",
   "execution_count": 19,
   "metadata": {},
   "outputs": [
    {
     "data": {
      "text/plain": [
       "(tensor([[[0., 1., 0.],\n",
       "          [1., 0., 0.],\n",
       "          [0., 0., 0.]]]), {0: [0, 1, 2, 9], 1: [3, 4, 5], 2: [6, 7, 8]})"
      ]
     },
     "execution_count": 19,
     "metadata": {},
     "output_type": "execute_result"
    }
   ],
   "source": [
    "reduce_graph()"
   ]
  },
  {
   "cell_type": "code",
   "execution_count": 51,
   "metadata": {},
   "outputs": [],
   "source": [
    "def get_subgraph(super_node_list_1, super_node_list_2, item):\n",
    "    node_list = super_node_list_1 + super_node_list_2\n",
    "    node_list.sort()\n",
    "    x = item['node_features'][node_list]\n",
    "    #data = Data(x = x, edge_index = edge_index.t().contiguous())\n",
    "    return x"
   ]
  },
  {
   "cell_type": "code",
   "execution_count": 82,
   "metadata": {},
   "outputs": [
    {
     "data": {
      "text/plain": [
       "tensor([[0., 1.],\n",
       "        [1., 0.]])"
      ]
     },
     "execution_count": 82,
     "metadata": {},
     "output_type": "execute_result"
    }
   ],
   "source": [
    "item['adjacency_matrix'][0][[0,2],:][:,[0,2]]"
   ]
  },
  {
   "cell_type": "code",
   "execution_count": 64,
   "metadata": {},
   "outputs": [
    {
     "data": {
      "text/plain": [
       "tensor([[0, 0, 0, 1, 1, 1, 2, 2, 2, 2, 3, 3, 3, 4, 4, 4, 5, 5, 5, 5, 5, 6, 6, 6,\n",
       "         6, 7, 7, 7, 8, 8, 8, 9, 9, 9],\n",
       "        [1, 2, 9, 0, 2, 9, 0, 1, 3, 9, 2, 4, 5, 3, 5, 6, 3, 4, 6, 7, 8, 4, 5, 7,\n",
       "         8, 5, 6, 8, 5, 6, 7, 0, 1, 2]])"
      ]
     },
     "execution_count": 64,
     "metadata": {},
     "output_type": "execute_result"
    }
   ],
   "source": [
    "torch_geometric.utils.dense_to_sparse(item['adjacency_matrix'][0])[0]"
   ]
  },
  {
   "cell_type": "code",
   "execution_count": 53,
   "metadata": {},
   "outputs": [
    {
     "name": "stdout",
     "output_type": "stream",
     "text": [
      "[0, 1, 2, 3, 4, 5, 9]\n"
     ]
    },
    {
     "data": {
      "text/plain": [
       "tensor([[3.0000, 3.0000, 4.0000, 3.3333, 0.4714],\n",
       "        [3.0000, 3.0000, 4.0000, 3.3333, 0.4714],\n",
       "        [4.0000, 3.0000, 3.0000, 3.0000, 0.0000],\n",
       "        [3.0000, 3.0000, 5.0000, 4.0000, 0.8165],\n",
       "        [3.0000, 3.0000, 5.0000, 4.0000, 0.8165],\n",
       "        [5.0000, 3.0000, 4.0000, 3.2000, 0.4000],\n",
       "        [3.0000, 3.0000, 4.0000, 3.3333, 0.4714]])"
      ]
     },
     "execution_count": 53,
     "metadata": {},
     "output_type": "execute_result"
    }
   ],
   "source": [
    "get_subgraph([0, 1, 2, 9], [3, 4, 5], item)"
   ]
  },
  {
   "cell_type": "code",
   "execution_count": null,
   "metadata": {},
   "outputs": [],
   "source": [
    "class ():\n",
    "    def __init__(self, graph): "
   ]
  },
  {
   "cell_type": "code",
   "execution_count": 28,
   "metadata": {},
   "outputs": [
    {
     "data": {
      "image/png": "[encoded data removed]",
      "text/plain": [
       "<Figure size 288x288 with 1 Axes>"
      ]
     },
     "metadata": {},
     "output_type": "display_data"
    }
   ],
   "source": [
    "data_graph = to_networkx(DS[2]['graph'])\n",
    "plt.figure(1,figsize = (4,4)) \n",
    "nx.draw(data_graph, cmap = plt.get_cmap('Set1'), node_size = 75, linewidths = 6, with_labels= True)\n",
    "plt.show()"
   ]
  },
  {
   "cell_type": "markdown",
   "metadata": {},
   "source": [
    "Supernode mapping \n",
    "- supernode 0 = [0,1,2,9] \n",
    "- supernode 1 = [3,4,5] \n",
    "- supernode 2 = [6,7,8] "
   ]
  },
  {
   "cell_type": "code",
   "execution_count": null,
   "metadata": {},
   "outputs": [],
   "source": [
    "# Let's create a graph\n",
    "edge_index = torch.tensor([[0, 1],\n",
    "                           [1, 0],\n",
    "                           [1, 2],\n",
    "                           [2, 1]], dtype=torch.long)\n",
    "x = torch.tensor([[0],[0],[0]], dtype = torch.float)\n"
   ]
  },
  {
   "cell_type": "code",
   "execution_count": null,
   "metadata": {},
   "outputs": [],
   "source": [
    "data = Data(x = x, edge_index = edge_index.t().contiguous())"
   ]
  },
  {
   "cell_type": "code",
   "execution_count": null,
   "metadata": {},
   "outputs": [],
   "source": [
    "torch_geometric.utils.to_dense_adj(data.edge_index)"
   ]
  },
  {
   "cell_type": "code",
   "execution_count": null,
   "metadata": {},
   "outputs": [],
   "source": [
    "# Plot the graph\n",
    "data_graph = to_networkx(data)\n",
    "plt.figure(1,figsize=(4,4)) \n",
    "nx.draw(data_graph, cmap = plt.get_cmap('Set1'), node_size=75, linewidths=6,with_labels= True)\n",
    "plt.show()"
   ]
  },
  {
   "cell_type": "code",
   "execution_count": null,
   "metadata": {},
   "outputs": [],
   "source": [
    "reduction = dict()"
   ]
  },
  {
   "cell_type": "code",
   "execution_count": null,
   "metadata": {},
   "outputs": [],
   "source": []
  },
  {
   "cell_type": "code",
   "execution_count": null,
   "metadata": {},
   "outputs": [],
   "source": []
  },
  {
   "cell_type": "code",
   "execution_count": null,
   "metadata": {},
   "outputs": [],
   "source": []
  },
  {
   "cell_type": "code",
   "execution_count": null,
   "metadata": {},
   "outputs": [],
   "source": []
  },
  {
   "cell_type": "markdown",
   "metadata": {},
   "source": [
    "# Graveyard"
   ]
  },
  {
   "cell_type": "code",
   "execution_count": null,
   "metadata": {},
   "outputs": [],
   "source": [
    "def BFS(node, item):\n",
    "    adj_list = get_adj_list(item['adjacency_matrix'])\n",
    "    visited = [] # List to keep track of visited nodes.\n",
    "    queue = []     #Initialize a queue\n",
    "    visited.append(n`ode)\n",
    "    queue.append(node)\n",
    "\n",
    "    while queue:\n",
    "        s = queue.pop(0) \n",
    "        print (s, end = \" \") \n",
    "\n",
    "        for neighbour in graph[s]:\n",
    "            if neighbour not in visited:\n",
    "                visited.append(neighbour)\n",
    "                queue.append(neighbour)"
   ]
  },
  {
   "cell_type": "code",
   "execution_count": null,
   "metadata": {},
   "outputs": [],
   "source": [
    "def cluster_baseline(item, n_hat):\n",
    "    n = item['adjacency_matrix'].shape\n",
    "    super_nodes = np.random.choice(range(n), n_hat, replace=False)\n",
    "    "
   ]
  },
  {
   "cell_type": "code",
   "execution_count": null,
   "metadata": {},
   "outputs": [],
   "source": [
    "test = dict()\n",
    "test[1] = 1"
   ]
  },
  {
   "cell_type": "code",
   "execution_count": null,
   "metadata": {},
   "outputs": [],
   "source": [
    "test"
   ]
  },
  {
   "cell_type": "code",
   "execution_count": null,
   "metadata": {},
   "outputs": [],
   "source": [
    "super_node1 = np.array([])\n",
    "super_node2 = np.array([])"
   ]
  },
  {
   "cell_type": "code",
   "execution_count": null,
   "metadata": {},
   "outputs": [],
   "source": [
    "def get_subgraph(graph, node1, node2):\n",
    "    \n",
    "    "
   ]
  }
 ],
 "metadata": {
  "kernelspec": {
   "display_name": "Python 3",
   "language": "python",
   "name": "python3"
  },
  "language_info": {
   "codemirror_mode": {
    "name": "ipython",
    "version": 3
   },
   "file_extension": ".py",
   "mimetype": "text/x-python",
   "name": "python",
   "nbconvert_exporter": "python",
   "pygments_lexer": "ipython3",
   "version": "3.7.4"
  }
 },
 "nbformat": 4,
 "nbformat_minor": 2
}
